{
  "nbformat": 4,
  "nbformat_minor": 0,
  "metadata": {
    "colab": {
      "provenance": [],
      "authorship_tag": "ABX9TyO2WKbZ3Roy3Vx3JcjB0RQa",
      "include_colab_link": true
    },
    "kernelspec": {
      "name": "python3",
      "display_name": "Python 3"
    },
    "language_info": {
      "name": "python"
    }
  },
  "cells": [
    {
      "cell_type": "markdown",
      "metadata": {
        "id": "view-in-github",
        "colab_type": "text"
      },
      "source": [
        "<a href=\"https://colab.research.google.com/github/Darkkokos/Informatics-Lab/blob/main/Task1.ipynb\" target=\"_parent\"><img src=\"https://colab.research.google.com/assets/colab-badge.svg\" alt=\"Open In Colab\"/></a>"
      ]
    },
    {
      "cell_type": "code",
      "execution_count": 3,
      "metadata": {
        "colab": {
          "base_uri": "https://localhost:8080/"
        },
        "id": "NFoUcBZyRiqa",
        "outputId": "0676be66-00d1-46ea-eee2-38b7fdde6aa7"
      },
      "outputs": [
        {
          "output_type": "stream",
          "name": "stdout",
          "text": [
            "-1.0714449774739397e-65 4.102337110350248e-65\n"
          ]
        }
      ],
      "source": [
        "import numpy as np\n",
        "import matplotlib.pyplot as plt\n",
        "from scipy.optimize import fsolve\n",
        "def y(p):\n",
        "  x,y=p\n",
        "  return (1/2 * x**3 - 2 * y**3 ,x**2 * y - 4 * x * y**2)\n",
        "x,y=fsolve(y,(-3,6))\n",
        "print (x,y)"
      ]
    },
    {
      "cell_type": "code",
      "source": [
        "x=-1.0714449774739397e-65\n",
        "y=4.102337110350248e-65\n",
        "d=1/2 * x**3 - 2 * y**3\n",
        "print(d)"
      ],
      "metadata": {
        "colab": {
          "base_uri": "https://localhost:8080/"
        },
        "id": "KW_rko6UTZnU",
        "outputId": "e24ca4c9-eb76-4d00-99ac-a5f784054838"
      },
      "execution_count": 4,
      "outputs": [
        {
          "output_type": "stream",
          "name": "stdout",
          "text": [
            "-1.3869286172749185e-193\n"
          ]
        }
      ]
    }
  ]
}